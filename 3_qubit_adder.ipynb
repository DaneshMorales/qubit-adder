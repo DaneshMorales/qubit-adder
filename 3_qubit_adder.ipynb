{
 "cells": [
  {
   "cell_type": "markdown",
   "metadata": {},
   "source": [
    "# 3-Bit Adder Using Quantum Circuits"
   ]
  },
  {
   "cell_type": "markdown",
   "metadata": {},
   "source": [
    "## Introduction"
   ]
  },
  {
   "cell_type": "markdown",
   "metadata": {},
   "source": [
    "In this project, I will show how to add 3 bits using quantum circuits in Qiskit using NOT, CNOT and Toffoli gates. This will include a part of the circuit that encodes the input, a part that executes the algorithm, and a part that extracts the result. The first part will need to be changed whenever we want to use a new input, but the rest will always remain the same."
   ]
  },
  {
   "cell_type": "markdown",
   "metadata": {},
   "source": [
    "## 2-Bit Adder"
   ]
  },
  {
   "cell_type": "markdown",
   "metadata": {},
   "source": [
    "In the [Qiskit online textbook](https://learn.qiskit.org/course/introduction/the-atoms-of-computation), they teach us how to create a quantum circuit that adds 2 bits encoded in the qubits \"0\" and \"1\", where the result is a string of 2 bits. We notice that there are fours possible combinations of pairs of bits: (0,0), (0,1), (1,0), (1,1). When we add these bits, the result in binary will be the following:"
   ]
  },
  {
   "cell_type": "markdown",
   "metadata": {},
   "source": [
    "\n",
    "\\begin{array}{|c c|c|}\n",
    "\\text{A} & \\text{B} & \\text{Result}\\\\ % Use & to separate the columns\n",
    "\\hline % Put a horizontal line between the table header and the rest.\n",
    "1 & 1 & 10\\\\\n",
    "1 & 0 & 01\\\\\n",
    "0 & 1 & 01\\\\\n",
    "0 & 0 & 00\\\\\n",
    "\\end{array}\n"
   ]
  },
  {
   "cell_type": "markdown",
   "metadata": {},
   "source": [
    "To solve this problem, we need to understand how the two resultant bits change based on the values of the first two inputs."
   ]
  },
  {
   "cell_type": "markdown",
   "metadata": {},
   "source": [
    "### First bit"
   ]
  },
  {
   "cell_type": "markdown",
   "metadata": {},
   "source": [
    "\\begin{array}{|c c|c|}\n",
    "\\text{A} & \\text{B} & \\text{First bit}\\\\ % Use & to separate the columns\n",
    "\\hline % Put a horizontal line between the table header and the rest.\n",
    "1 & 1 & 0\\\\\n",
    "1 & 0 & 1\\\\\n",
    "0 & 1 & 1\\\\\n",
    "0 & 0 & 0\\\\\n",
    "\\end{array}"
   ]
  },
  {
   "cell_type": "markdown",
   "metadata": {},
   "source": [
    "We can see that the first bit is 1 if and only if there is a \"0\" and a \"1\" as our inputs. Note that this table of truth represents the [XOR gate](https://en.wikipedia.org/wiki/XOR_gate) (exclusive-or) table of truth, where it returns \"1\" if the two input values differ."
   ]
  },
  {
   "cell_type": "markdown",
   "metadata": {},
   "source": [
    "\\begin{array}{|c c|c|}\n",
    "\\text{A} & \\text{B} & \\text{A XOR B}\\\\ % Use & to separate the columns\n",
    "\\hline % Put a horizontal line between the table header and the rest.\n",
    "1 & 1 & 0\\\\\n",
    "1 & 0 & 1\\\\\n",
    "0 & 1 & 1\\\\\n",
    "0 & 0 & 0\\\\\n",
    "\\end{array}"
   ]
  },
  {
   "cell_type": "markdown",
   "metadata": {},
   "source": [
    "Since we are working with quantum circuits, we will use the [CNOT](https://en.wikipedia.org/wiki/Controlled_NOT_gate) quantum gate, which does the same as the XOR gate. We can start by creating our quantum circuit, applying the CNOT gate to our inputs, storing it in another qubit, and then measuring it as our first resultant qubit."
   ]
  },
  {
   "cell_type": "code",
   "execution_count": 10,
   "metadata": {},
   "outputs": [
    {
     "data": {
      "image/png": "[encoded data removed]",
      "text/plain": [
       "<Figure size 371.107x367.889 with 1 Axes>"
      ]
     },
     "execution_count": 10,
     "metadata": {},
     "output_type": "execute_result"
    }
   ],
   "source": [
    "from qiskit import QuantumCircuit\n",
    "from qiskit.providers.aer import AerSimulator\n",
    "\n",
    "qc = QuantumCircuit(3,2) # creates the circuit\n",
    "\n",
    "qc.cx(0,2) \n",
    "qc.cx(1,2) # applies the CNOT gate to the two inputs (q0, q1) and stores the result in another qubit q2\n",
    "\n",
    "qc.measure(2,0) # measures the result in q2, and saves it as our first classical bit (c0)\n",
    "\n",
    "qc.draw('mpl') # creates a drawing of the quantum circuit\n"
   ]
  },
  {
   "cell_type": "code",
   "execution_count": 8,
   "metadata": {},
   "outputs": [
    {
     "data": {
      "text/plain": [
       "'0'"
      ]
     },
     "execution_count": 8,
     "metadata": {},
     "output_type": "execute_result"
    }
   ],
   "source": [
    "sim = AerSimulator()\n",
    "job = sim.run(qc)  # run the experiment\n",
    "result = job.result()   # get the results\n",
    "list(result.get_counts())[0][-1]\n"
   ]
  },
  {
   "cell_type": "markdown",
   "metadata": {},
   "source": [
    "By default, our 2 qubits are set to \"0\", which is why we got \"0\" as our classical bit result. We can change their values using a NOT quantum gate and we can see how the result varies."
   ]
  },
  {
   "cell_type": "code",
   "execution_count": 14,
   "metadata": {},
   "outputs": [
    {
     "data": {
      "image/png": "[encoded data removed]",
      "text/plain": [
       "<Figure size 454.719x367.889 with 1 Axes>"
      ]
     },
     "execution_count": 14,
     "metadata": {},
     "output_type": "execute_result"
    }
   ],
   "source": [
    "qc = QuantumCircuit(3,2) # creates the circuit\n",
    "\n",
    "qc.x(0) # changes the q0 state from \"0\" to \"1\"\n",
    "qc.cx(0,2) \n",
    "qc.cx(1,2) # applies the CNOT gate to the two inputs (q0, q1) and stores the result in another qubit q2\n",
    "\n",
    "qc.measure(2,0) # measures the result in q2, and saves it as our first classical bit (c0)\n",
    "\n",
    "qc.draw('mpl') # creates a drawing of the quantum circuit\n",
    "\n",
    "\n"
   ]
  },
  {
   "cell_type": "code",
   "execution_count": 18,
   "metadata": {},
   "outputs": [
    {
     "data": {
      "text/plain": [
       "'1'"
      ]
     },
     "execution_count": 18,
     "metadata": {},
     "output_type": "execute_result"
    }
   ],
   "source": [
    "job = sim.run(qc)  # run the experiment\n",
    "result = job.result()   # get the results\n",
    "list(result.get_counts())[0][-1]"
   ]
  },
  {
   "cell_type": "markdown",
   "metadata": {},
   "source": [
    "Now our result is \"1\", as expected. If we applied the NOT gate to the other qubit instead, it would yield the same result. If both qubits are set to \"1\", then the measurement will give \"0\" as expected"
   ]
  },
  {
   "cell_type": "code",
   "execution_count": 19,
   "metadata": {},
   "outputs": [
    {
     "data": {
      "image/png": "[encoded data removed]",
      "text/plain": [
       "<Figure size 454.719x367.889 with 1 Axes>"
      ]
     },
     "execution_count": 19,
     "metadata": {},
     "output_type": "execute_result"
    }
   ],
   "source": [
    "qc = QuantumCircuit(3,2) # creates the circuit\n",
    "\n",
    "qc.x(0) # changes the q0 state from \"0\" to \"1\"\n",
    "qc.x(1) # changes the q1 state from \"0\" to \"1\"\n",
    "\n",
    "qc.cx(0,2) \n",
    "qc.cx(1,2) # applies the CNOT gate to the two inputs (q0, q1) and stores the result in another qubit q2\n",
    "\n",
    "qc.measure(2,0) # measures the result in q2, and saves it as our first classical bit (c0)\n",
    "\n",
    "qc.draw('mpl') # creates a drawing of the quantum circuit"
   ]
  },
  {
   "cell_type": "code",
   "execution_count": 20,
   "metadata": {},
   "outputs": [
    {
     "data": {
      "text/plain": [
       "'0'"
      ]
     },
     "execution_count": 20,
     "metadata": {},
     "output_type": "execute_result"
    }
   ],
   "source": [
    "job = sim.run(qc)  # run the experiment\n",
    "result = job.result()   # get the results\n",
    "list(result.get_counts())[0][-1]"
   ]
  },
  {
   "cell_type": "code",
   "execution_count": null,
   "metadata": {},
   "outputs": [],
   "source": []
  }
 ],
 "metadata": {
  "interpreter": {
   "hash": "b0fa6594d8f4cbf19f97940f81e996739fb7646882a419484c72d19e05852a7e"
  },
  "kernelspec": {
   "display_name": "Python 3.9.12 64-bit",
   "language": "python",
   "name": "python3"
  },
  "language_info": {
   "codemirror_mode": {
    "name": "ipython",
    "version": 3
   },
   "file_extension": ".py",
   "mimetype": "text/x-python",
   "name": "python",
   "nbconvert_exporter": "python",
   "pygments_lexer": "ipython3",
   "version": "3.9.12"
  },
  "orig_nbformat": 4
 },
 "nbformat": 4,
 "nbformat_minor": 2
}
